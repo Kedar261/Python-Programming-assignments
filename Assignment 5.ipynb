{
 "cells": [
  {
   "cell_type": "code",
   "execution_count": 3,
   "id": "72464edc",
   "metadata": {},
   "outputs": [
    {
     "name": "stdout",
     "output_type": "stream",
     "text": [
      "Enter the first number:54\n",
      "Enter the second number:24\n",
      "The LCM of 54 and 24 is 216\n"
     ]
    }
   ],
   "source": [
    "#1.\tWrite a Python Program to Find LCM?\n",
    "x = int(input(\"Enter the first number:\"))\n",
    "y = int(input(\"Enter the second number:\"))\n",
    "    \n",
    "    \n",
    "for j in range(1, greater+1):\n",
    "    if x > y:\n",
    "        greater = x\n",
    "    else:\n",
    "        greater = y\n",
    "\n",
    "    while(True):\n",
    "        if((greater % x == 0) and (greater % y == 0)):\n",
    "            lcm = greater\n",
    "            break\n",
    "        greater += 1\n",
    "print(f\"The LCM of {x} and {y} is\", lcm)"
   ]
  },
  {
   "cell_type": "code",
   "execution_count": 4,
   "id": "86c8a4af",
   "metadata": {},
   "outputs": [
    {
     "name": "stdout",
     "output_type": "stream",
     "text": [
      "Enter the first number:54\n",
      "Enter the second number:24\n",
      "The HCF of 54 and 24 is 6\n"
     ]
    }
   ],
   "source": [
    "#2.\tWrite a Python Program to Find HCF?\n",
    "x = int(input(\"Enter the first number:\"))\n",
    "y = int(input(\"Enter the second number:\"))\n",
    "if x > y:\n",
    "    smaller = y\n",
    "else:\n",
    "    smaller = x\n",
    "for i in range(1, smaller+1):\n",
    "    if((x % i == 0) and (y % i == 0)):\n",
    "        hcf = i \n",
    "print(f\"The HCF of {x} and {y} is\", hcf)\n"
   ]
  },
  {
   "cell_type": "code",
   "execution_count": 5,
   "id": "a15d2337",
   "metadata": {},
   "outputs": [
    {
     "name": "stdout",
     "output_type": "stream",
     "text": [
      "Input Decimal value to be converted:355\n",
      "The Binary value of 355 is 0b101100011\n",
      "The Octal value of 355 is 0o543\n",
      "The Binary value of 355 is 0x163\n"
     ]
    }
   ],
   "source": [
    "#3.\tWrite a Python Program to Convert Decimal to Binary, Octal and Hexadecimal?\n",
    "decimal = int(input(\"Input Decimal value to be converted:\"))\n",
    "print(f\"The Binary value of {decimal} is\",bin(decimal))\n",
    "print(f\"The Octal value of {decimal} is\",oct(decimal))\n",
    "print(f\"The Binary value of {decimal} is\",hex(decimal))"
   ]
  },
  {
   "cell_type": "code",
   "execution_count": 6,
   "id": "727a328e",
   "metadata": {},
   "outputs": [
    {
     "name": "stdout",
     "output_type": "stream",
     "text": [
      "Enter the Character: 4\n",
      "ASCII value of Char 4 is 52\n"
     ]
    }
   ],
   "source": [
    "#4.\tWrite a Python Program To Find ASCII value of a character?\n",
    "chr = input(\"Enter the Character: \")  \n",
    "print(f\"ASCII value of Char {chr} is\",ord(chr)) "
   ]
  },
  {
   "cell_type": "code",
   "execution_count": 15,
   "id": "8c35a54e",
   "metadata": {},
   "outputs": [
    {
     "name": "stdout",
     "output_type": "stream",
     "text": [
      "Enter First No.:2\n",
      "Enter second No.:5\n",
      "Select operation \n",
      " Press 1 for addition \n",
      " Press 2 for subtraction \n",
      " Press 3 for multiplication \n",
      " Press 4 for division4\n",
      "\n",
      " 4\n",
      "2.0 / 5.0 = 0.4\n"
     ]
    }
   ],
   "source": [
    "#5.\tWrite a Python Program to Make a Simple Calculator with 4 basic mathematical operations?\n",
    "# Program make a simple calculator\n",
    "x = float(input(\"Enter First No.:\"))\n",
    "y = float(input(\"Enter second No.:\"))\n",
    "op = input(\"Select operation \\n Press 1 for addition \\n Press 2 for subtraction \\n Press 3 for multiplication \\n Press 4 for division\")\n",
    "print(\"\\n\",op)\n",
    "\n",
    "\n",
    "if op == '1':\n",
    "    print(x, \"+\", y, \"=\", (x+y))\n",
    "elif op == '2':\n",
    "    print(x, \"-\", y, \"=\", (x-y))\n",
    "elif op == '3':\n",
    "    print(x, \"*\", y, \"=\", (x*y))\n",
    "elif op == '4':\n",
    "    print(x, \"/\", y, \"=\", (x/y))\n",
    "else:\n",
    "    print(\"Invalid input\")\n",
    "\n"
   ]
  }
 ],
 "metadata": {
  "kernelspec": {
   "display_name": "Python 3 (ipykernel)",
   "language": "python",
   "name": "python3"
  },
  "language_info": {
   "codemirror_mode": {
    "name": "ipython",
    "version": 3
   },
   "file_extension": ".py",
   "mimetype": "text/x-python",
   "name": "python",
   "nbconvert_exporter": "python",
   "pygments_lexer": "ipython3",
   "version": "3.9.7"
  }
 },
 "nbformat": 4,
 "nbformat_minor": 5
}
