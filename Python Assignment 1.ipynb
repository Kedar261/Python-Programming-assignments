{
 "cells": [
  {
   "cell_type": "code",
   "execution_count": 1,
   "id": "e073140d",
   "metadata": {},
   "outputs": [
    {
     "name": "stdout",
     "output_type": "stream",
     "text": [
      "Hello Python\n"
     ]
    }
   ],
   "source": [
    "##1.\tWrite a Python program to print \"Hello Python\"?\n",
    "print(\"Hello Python\")"
   ]
  },
  {
   "cell_type": "code",
   "execution_count": null,
   "id": "6e0634e2",
   "metadata": {},
   "outputs": [],
   "source": [
    "##2.\tWrite a Python program to do arithmetical operations addition and division.?\n",
    "a = input('Enter first number: ')\n",
    "b = input('Enter second number: ')\n",
    "sum = float(a) + float(b)\n",
    "div = float(a) /float(b)\n",
    "print(\"Sum is:\", sum, \"Division is:\",round(div,2))"
   ]
  },
  {
   "cell_type": "code",
   "execution_count": null,
   "id": "426040a9",
   "metadata": {},
   "outputs": [],
   "source": [
    "##3.\tWrite a Python program to find the area of a triangle?\n",
    "a = input('Enter first side length: ')\n",
    "b = input('Enter second side length: ')\n",
    "c = input('Enter third side length:')\n",
    "s = (float(a) + float(b) + float(c)) / 2\n",
    "area = (s*(s-float(a))*(s-float(b))*(s-float(c))) ** 0.5\n",
    "print(round(area,2))"
   ]
  },
  {
   "cell_type": "code",
   "execution_count": null,
   "id": "c72734b8",
   "metadata": {},
   "outputs": [],
   "source": [
    "##4.\tWrite a Python program to swap two variables?\n",
    "a = input('Enter first value a: ')\n",
    "b = input('Enter second value b:')\n",
    "print(\"original values are a:\", a,\" and b:\", b)\n",
    "c = a\n",
    "a = b\n",
    "b = c\n",
    "print(\"Swapped values are a:\", a,\" and b:\", b)"
   ]
  },
  {
   "cell_type": "code",
   "execution_count": null,
   "id": "745d0b16",
   "metadata": {},
   "outputs": [],
   "source": [
    "##5.\tWrite a Python program to generate a random number?\n",
    "import random\n",
    "a = int(input(\"Enter first element of range from which random no. will be generated:\"))\n",
    "b = int(input(\"Enter second element of range from which random no. will be generated:\"))\n",
    "print(random.randint(a,b))"
   ]
  }
 ],
 "metadata": {
  "kernelspec": {
   "display_name": "Python 3",
   "language": "python",
   "name": "python3"
  },
  "language_info": {
   "codemirror_mode": {
    "name": "ipython",
    "version": 3
   },
   "file_extension": ".py",
   "mimetype": "text/x-python",
   "name": "python",
   "nbconvert_exporter": "python",
   "pygments_lexer": "ipython3",
   "version": "3.8.8"
  }
 },
 "nbformat": 4,
 "nbformat_minor": 5
}
