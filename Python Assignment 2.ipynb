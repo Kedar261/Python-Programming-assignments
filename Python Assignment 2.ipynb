{
 "cells": [
  {
   "cell_type": "code",
   "execution_count": 1,
   "id": "0ae6d259",
   "metadata": {},
   "outputs": [
    {
     "name": "stdout",
     "output_type": "stream",
     "text": [
      "Enter the distance in kilometers:\n",
      "2.5\n",
      "Conversion of 2.5 kilometers in miles is: 1.5534275 miles\n"
     ]
    }
   ],
   "source": [
    "##1.\tWrite a Python program to convert kilometers to miles?\n",
    "d = float(input(\"Enter the distance in kilometers:\\n\"))\n",
    "print(\"Conversion of\", d, \"kilometers in miles is:\", d*0.621371, \"miles\")"
   ]
  },
  {
   "cell_type": "code",
   "execution_count": 2,
   "id": "9d634a7d",
   "metadata": {},
   "outputs": [
    {
     "name": "stdout",
     "output_type": "stream",
     "text": [
      "Enter the temperature in celcius:\n",
      "27\n",
      "Conversion of 27.0 degree celcius in farenheit is: 80.6 farenheit\n"
     ]
    }
   ],
   "source": [
    "## 2.\tWrite a Python program to convert Celsius to Fahrenheit?\n",
    "temp = float(input(\"Enter the temperature in celcius:\\n\"))\n",
    "print(\"Conversion of\", temp, \"degree celcius in farenheit is:\", (temp * 1.8) + 32, \"farenheit\")\n",
    "        "
   ]
  },
  {
   "cell_type": "code",
   "execution_count": 12,
   "id": "75ccbdcd",
   "metadata": {},
   "outputs": [
    {
     "name": "stdout",
     "output_type": "stream",
     "text": [
      "Enter year:2022\n",
      "Enter month:5\n",
      "      May 2022\n",
      "Mo Tu We Th Fr Sa Su\n",
      "                   1\n",
      " 2  3  4  5  6  7  8\n",
      " 9 10 11 12 13 14 15\n",
      "16 17 18 19 20 21 22\n",
      "23 24 25 26 27 28 29\n",
      "30 31\n",
      "\n"
     ]
    }
   ],
   "source": [
    "##3.\tWrite a Python program to display calendar?\n",
    "import calendar \n",
    "y = int(input(\"Enter year:\"))\n",
    "m = int(input(\"Enter month:\"))\n",
    "print(calendar.month(y, m))"
   ]
  },
  {
   "cell_type": "code",
   "execution_count": 8,
   "id": "468943ae",
   "metadata": {},
   "outputs": [
    {
     "name": "stdout",
     "output_type": "stream",
     "text": [
      "Enter Coefficient of X^2:1\n",
      "Enter Coefficient of X:-1\n",
      "Enter Constant value:-6\n",
      "Roots of the equation are: 3.0 & -2.0\n"
     ]
    }
   ],
   "source": [
    "##4.\tWrite a Python program to solve quadratic equation?\n",
    "a = float(input(\"Enter Coefficient of X^2:\"))\n",
    "b = float(input(\"Enter Coefficient of X:\"))\n",
    "c = float(input(\"Enter Constant value:\"))\n",
    "positive_root = ((-b)+((b**2)-(4*a*c))**0.5)/(2*a)\n",
    "negative_root = ((-b)-((b**2)-(4*a*c))**0.5)/(2*a)\n",
    "print(\"Roots of the equation are:\",positive_root,\"&\",negative_root)"
   ]
  },
  {
   "cell_type": "code",
   "execution_count": 10,
   "id": "e1187d09",
   "metadata": {},
   "outputs": [
    {
     "name": "stdout",
     "output_type": "stream",
     "text": [
      "original a= 2 original b= 3\n",
      "Swapped a= 3 Swapped b= 2\n"
     ]
    }
   ],
   "source": [
    "##5.\tWrite a Python program to swap two variables without temp variable?\n",
    "a = 2 \n",
    "b = 3\n",
    "print(\"original a=\",a,\"original b=\",b)\n",
    "a,b = b,a\n",
    "print(\"Swapped a=\",a,\"Swapped b=\",b)"
   ]
  }
 ],
 "metadata": {
  "kernelspec": {
   "display_name": "Python 3",
   "language": "python",
   "name": "python3"
  },
  "language_info": {
   "codemirror_mode": {
    "name": "ipython",
    "version": 3
   },
   "file_extension": ".py",
   "mimetype": "text/x-python",
   "name": "python",
   "nbconvert_exporter": "python",
   "pygments_lexer": "ipython3",
   "version": "3.8.8"
  }
 },
 "nbformat": 4,
 "nbformat_minor": 5
}
