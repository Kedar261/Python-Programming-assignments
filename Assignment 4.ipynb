{
 "cells": [
  {
   "cell_type": "code",
   "execution_count": 71,
   "id": "afd69918",
   "metadata": {},
   "outputs": [
    {
     "name": "stdout",
     "output_type": "stream",
     "text": [
      "Enter a no.:4\n",
      "The factorial of 4 is 24\n"
     ]
    }
   ],
   "source": [
    "#1.\tWrite a Python Program to Find the Factorial of a Number?\n",
    "a = int(input(\"Enter a no.:\"))\n",
    "j = 1\n",
    "if a < 0:\n",
    "    print(\"factorial not possible\")\n",
    "elif a == 0:\n",
    "    print(\"The factorial of 0 is 1\")\n",
    "else:\n",
    "    for i in range(1,a + 1):\n",
    "        j = j*i\n",
    "    print(\"The factorial of\",a,\"is\",j)\n",
    "    \n",
    "\n",
    "    "
   ]
  },
  {
   "cell_type": "code",
   "execution_count": 92,
   "id": "98a05f88",
   "metadata": {},
   "outputs": [
    {
     "name": "stdout",
     "output_type": "stream",
     "text": [
      "Enter a no.:123\n",
      "Table of 123 is:\n",
      "123 X 1 = 123\n",
      "123 X 2 = 246\n",
      "123 X 3 = 369\n",
      "123 X 4 = 492\n",
      "123 X 5 = 615\n",
      "123 X 6 = 738\n",
      "123 X 7 = 861\n",
      "123 X 8 = 984\n",
      "123 X 9 = 1107\n",
      "123 X 10 = 1230\n"
     ]
    }
   ],
   "source": [
    "#2.\tWrite a Python Program to Display the multiplication Table?\n",
    "a = int(input(\"Enter a no.:\"))\n",
    "print(\"Table of\",a,\"is:\")\n",
    "for i in range(1,11):\n",
    "    j = a*i\n",
    "    print(a,\"X\",i,\"=\",j)"
   ]
  },
  {
   "cell_type": "code",
   "execution_count": 104,
   "id": "b0b56a05",
   "metadata": {},
   "outputs": [
    {
     "name": "stdout",
     "output_type": "stream",
     "text": [
      "Enter a no. upto which the fibonacci series to be calculated:5\n",
      "0\n",
      "1\n",
      "1\n",
      "2\n",
      "3\n"
     ]
    }
   ],
   "source": [
    "#3.\tWrite a Python Program to Print the Fibonacci sequence?\n",
    "a = int(input(\"Enter a no. upto which the fibonacci series to be calculated:\"))\n",
    "m = 0\n",
    "n = 1\n",
    "for i in range(0,a):\n",
    "    if (i <= 1):\n",
    "        next = i\n",
    "    else:\n",
    "        next = m + n\n",
    "        m = n\n",
    "        n = next\n",
    "    print(next)"
   ]
  },
  {
   "cell_type": "code",
   "execution_count": 137,
   "id": "17e1bc54",
   "metadata": {},
   "outputs": [
    {
     "name": "stdout",
     "output_type": "stream",
     "text": [
      "Enter a no. to check it is armstrong or not?:153\n",
      "153 is armstrong no.\n"
     ]
    }
   ],
   "source": [
    "#4.\tWrite a Python Program to Check Armstrong Number?\n",
    "a = int(input(\"Enter a no. to check it is armstrong or not?:\"))\n",
    "s = str(a)\n",
    "k = 0\n",
    "for i in range(0,len(s)):\n",
    "    mul = (int(s[i]))**(len(s))\n",
    "    k+= mul\n",
    "    \n",
    "if k != a:\n",
    "    print(f\"{a} is not an armstrong no.\")\n",
    "else:\n",
    "    print(f\"{a} is armstrong no.\")\n",
    "        \n",
    "        "
   ]
  },
  {
   "cell_type": "code",
   "execution_count": 141,
   "id": "ae3f6f67",
   "metadata": {},
   "outputs": [
    {
     "name": "stdout",
     "output_type": "stream",
     "text": [
      "Enter a no. to check it is armstrong or not?:407\n",
      "Enter 1st value of interval100\n",
      "Enter 2nd value of interval200\n",
      "407 is armstrong no. but not in given interval\n"
     ]
    }
   ],
   "source": [
    "#5.\tWrite a Python Program to Find Armstrong Number in an Interval?\n",
    "a = int(input(\"Enter a no. to check it is armstrong or not?:\"))\n",
    "l = int(input(\"Enter 1st value of interval\"))\n",
    "u = int(input(\"Enter 2nd value of interval\"))\n",
    "s = str(a)\n",
    "k = 0\n",
    "for i in range(0,len(s)):\n",
    "    mul = (int(s[i]))**(len(s))\n",
    "    k+= mul\n",
    "    \n",
    "if k != a:\n",
    "    print(f\"{a} is not an armstrong no.\")\n",
    "else:\n",
    "    pass\n",
    "    if l<a<u:\n",
    "        print(f\"{a} is armstrong no. & in given interval\")\n",
    "    else:\n",
    "        print(f\"{a} is armstrong no. but not in given interval\")\n",
    "        "
   ]
  },
  {
   "cell_type": "code",
   "execution_count": 145,
   "id": "32e5afb8",
   "metadata": {},
   "outputs": [
    {
     "name": "stdout",
     "output_type": "stream",
     "text": [
      "please enter , how many natural no.s addition to be done?:10\n",
      "The sum is 55\n"
     ]
    }
   ],
   "source": [
    "#6.\tWrite a Python Program to Find the Sum of Natural Numbers?\n",
    "\n",
    "num = int(input(\"please enter , how many natural no.s addition to be done?:\"))\n",
    "\n",
    "if num < 0:\n",
    "    print(\"Enter a positive number\")\n",
    "else:\n",
    "    sum = 0\n",
    "    while(num > 0):\n",
    "        sum += num\n",
    "        num -= 1\n",
    "    print(\"The sum is\", sum)"
   ]
  }
 ],
 "metadata": {
  "kernelspec": {
   "display_name": "Python 3",
   "language": "python",
   "name": "python3"
  },
  "language_info": {
   "codemirror_mode": {
    "name": "ipython",
    "version": 3
   },
   "file_extension": ".py",
   "mimetype": "text/x-python",
   "name": "python",
   "nbconvert_exporter": "python",
   "pygments_lexer": "ipython3",
   "version": "3.8.8"
  }
 },
 "nbformat": 4,
 "nbformat_minor": 5
}
